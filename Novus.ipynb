{
 "cells": [
  {
   "cell_type": "markdown",
   "id": "4be32d14-fbc1-4044-a030-e5c043b86340",
   "metadata": {},
   "source": [
    "# NOVUS 1"
   ]
  },
  {
   "cell_type": "markdown",
   "id": "29cbdbd1-35fa-47c0-a9a2-16828a634585",
   "metadata": {},
   "source": [
    "### Technologies Used\n",
    "AWS, SQL Power Architect, Apache Hop, Numpy, (pandas or equivalent?), Seaborn, SkLearn, (LLamma?), Parquet, API, (Spark?), PostgreSQL, Flask, FastAPI, Uvicorn, kafka-pyhton, Docker, Airflow, pyarrow, Great Expectations, ProfileReport (YData)"
   ]
  },
  {
   "cell_type": "markdown",
   "id": "c7e2f42e-7a2c-426b-8c81-441aefc67558",
   "metadata": {},
   "source": [
    "### Data Used\n",
    "\n",
    "\n",
    "### Purpose\n"
   ]
  },
  {
   "cell_type": "markdown",
   "id": "1c710239-c4e5-48a8-8fc5-00fc5f713ccf",
   "metadata": {},
   "source": [
    "### Steps\n",
    "1 - Extractions: \n",
    "\n",
    "n-3 - Data Marts Creation\n",
    "n-2 - Data WareHouse\n",
    "n-1 - Data Viz\n",
    "n - Machine learning\n",
    "n+1 - API\n",
    "n+2 - Generative AI"
   ]
  },
  {
   "cell_type": "code",
   "execution_count": null,
   "id": "d9597c1f-0a47-429a-a686-de30710979ff",
   "metadata": {},
   "outputs": [],
   "source": []
  }
 ],
 "metadata": {
  "kernelspec": {
   "display_name": "Python 3 (ipykernel)",
   "language": "python",
   "name": "python3"
  },
  "language_info": {
   "codemirror_mode": {
    "name": "ipython",
    "version": 3
   },
   "file_extension": ".py",
   "mimetype": "text/x-python",
   "name": "python",
   "nbconvert_exporter": "python",
   "pygments_lexer": "ipython3",
   "version": "3.11.5"
  }
 },
 "nbformat": 4,
 "nbformat_minor": 5
}
